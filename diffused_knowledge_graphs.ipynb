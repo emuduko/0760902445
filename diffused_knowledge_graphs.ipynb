{
  "nbformat": 4,
  "nbformat_minor": 0,
  "metadata": {
    "colab": {
      "provenance": [],
      "authorship_tag": "ABX9TyMqa1hQM+68pgyBkVwBd/gv",
      "include_colab_link": true
    },
    "kernelspec": {
      "name": "python3",
      "display_name": "Python 3"
    },
    "language_info": {
      "name": "python"
    }
  },
  "cells": [
    {
      "cell_type": "markdown",
      "metadata": {
        "id": "view-in-github",
        "colab_type": "text"
      },
      "source": [
        "<a href=\"https://colab.research.google.com/github/emuduko/0760902445/blob/main/diffused_knowledge_graphs.ipynb\" target=\"_parent\"><img src=\"https://colab.research.google.com/assets/colab-badge.svg\" alt=\"Open In Colab\"/></a>"
      ]
    },
    {
      "cell_type": "code",
      "execution_count": null,
      "metadata": {
        "id": "sfAfO6Z929Pa"
      },
      "outputs": [],
      "source": [
        "import pandas as pd\n",
        "import numpy as np"
      ]
    },
    {
      "cell_type": "code",
      "source": [
        "from google.colab import files\n",
        "uploaded = files.upload()"
      ],
      "metadata": {
        "colab": {
          "base_uri": "https://localhost:8080/",
          "height": 38
        },
        "id": "FzOsr06f5RW2",
        "outputId": "f28796a6-228e-468b-b5eb-a758d4993975"
      },
      "execution_count": null,
      "outputs": [
        {
          "output_type": "display_data",
          "data": {
            "text/plain": [
              "<IPython.core.display.HTML object>"
            ],
            "text/html": [
              "\n",
              "     <input type=\"file\" id=\"files-e70abfe0-271d-4604-ab69-8bc6abfc9837\" name=\"files[]\" multiple disabled\n",
              "        style=\"border:none\" />\n",
              "     <output id=\"result-e70abfe0-271d-4604-ab69-8bc6abfc9837\">\n",
              "      Upload widget is only available when the cell has been executed in the\n",
              "      current browser session. Please rerun this cell to enable.\n",
              "      </output>\n",
              "      <script>// Copyright 2017 Google LLC\n",
              "//\n",
              "// Licensed under the Apache License, Version 2.0 (the \"License\");\n",
              "// you may not use this file except in compliance with the License.\n",
              "// You may obtain a copy of the License at\n",
              "//\n",
              "//      http://www.apache.org/licenses/LICENSE-2.0\n",
              "//\n",
              "// Unless required by applicable law or agreed to in writing, software\n",
              "// distributed under the License is distributed on an \"AS IS\" BASIS,\n",
              "// WITHOUT WARRANTIES OR CONDITIONS OF ANY KIND, either express or implied.\n",
              "// See the License for the specific language governing permissions and\n",
              "// limitations under the License.\n",
              "\n",
              "/**\n",
              " * @fileoverview Helpers for google.colab Python module.\n",
              " */\n",
              "(function(scope) {\n",
              "function span(text, styleAttributes = {}) {\n",
              "  const element = document.createElement('span');\n",
              "  element.textContent = text;\n",
              "  for (const key of Object.keys(styleAttributes)) {\n",
              "    element.style[key] = styleAttributes[key];\n",
              "  }\n",
              "  return element;\n",
              "}\n",
              "\n",
              "// Max number of bytes which will be uploaded at a time.\n",
              "const MAX_PAYLOAD_SIZE = 100 * 1024;\n",
              "\n",
              "function _uploadFiles(inputId, outputId) {\n",
              "  const steps = uploadFilesStep(inputId, outputId);\n",
              "  const outputElement = document.getElementById(outputId);\n",
              "  // Cache steps on the outputElement to make it available for the next call\n",
              "  // to uploadFilesContinue from Python.\n",
              "  outputElement.steps = steps;\n",
              "\n",
              "  return _uploadFilesContinue(outputId);\n",
              "}\n",
              "\n",
              "// This is roughly an async generator (not supported in the browser yet),\n",
              "// where there are multiple asynchronous steps and the Python side is going\n",
              "// to poll for completion of each step.\n",
              "// This uses a Promise to block the python side on completion of each step,\n",
              "// then passes the result of the previous step as the input to the next step.\n",
              "function _uploadFilesContinue(outputId) {\n",
              "  const outputElement = document.getElementById(outputId);\n",
              "  const steps = outputElement.steps;\n",
              "\n",
              "  const next = steps.next(outputElement.lastPromiseValue);\n",
              "  return Promise.resolve(next.value.promise).then((value) => {\n",
              "    // Cache the last promise value to make it available to the next\n",
              "    // step of the generator.\n",
              "    outputElement.lastPromiseValue = value;\n",
              "    return next.value.response;\n",
              "  });\n",
              "}\n",
              "\n",
              "/**\n",
              " * Generator function which is called between each async step of the upload\n",
              " * process.\n",
              " * @param {string} inputId Element ID of the input file picker element.\n",
              " * @param {string} outputId Element ID of the output display.\n",
              " * @return {!Iterable<!Object>} Iterable of next steps.\n",
              " */\n",
              "function* uploadFilesStep(inputId, outputId) {\n",
              "  const inputElement = document.getElementById(inputId);\n",
              "  inputElement.disabled = false;\n",
              "\n",
              "  const outputElement = document.getElementById(outputId);\n",
              "  outputElement.innerHTML = '';\n",
              "\n",
              "  const pickedPromise = new Promise((resolve) => {\n",
              "    inputElement.addEventListener('change', (e) => {\n",
              "      resolve(e.target.files);\n",
              "    });\n",
              "  });\n",
              "\n",
              "  const cancel = document.createElement('button');\n",
              "  inputElement.parentElement.appendChild(cancel);\n",
              "  cancel.textContent = 'Cancel upload';\n",
              "  const cancelPromise = new Promise((resolve) => {\n",
              "    cancel.onclick = () => {\n",
              "      resolve(null);\n",
              "    };\n",
              "  });\n",
              "\n",
              "  // Wait for the user to pick the files.\n",
              "  const files = yield {\n",
              "    promise: Promise.race([pickedPromise, cancelPromise]),\n",
              "    response: {\n",
              "      action: 'starting',\n",
              "    }\n",
              "  };\n",
              "\n",
              "  cancel.remove();\n",
              "\n",
              "  // Disable the input element since further picks are not allowed.\n",
              "  inputElement.disabled = true;\n",
              "\n",
              "  if (!files) {\n",
              "    return {\n",
              "      response: {\n",
              "        action: 'complete',\n",
              "      }\n",
              "    };\n",
              "  }\n",
              "\n",
              "  for (const file of files) {\n",
              "    const li = document.createElement('li');\n",
              "    li.append(span(file.name, {fontWeight: 'bold'}));\n",
              "    li.append(span(\n",
              "        `(${file.type || 'n/a'}) - ${file.size} bytes, ` +\n",
              "        `last modified: ${\n",
              "            file.lastModifiedDate ? file.lastModifiedDate.toLocaleDateString() :\n",
              "                                    'n/a'} - `));\n",
              "    const percent = span('0% done');\n",
              "    li.appendChild(percent);\n",
              "\n",
              "    outputElement.appendChild(li);\n",
              "\n",
              "    const fileDataPromise = new Promise((resolve) => {\n",
              "      const reader = new FileReader();\n",
              "      reader.onload = (e) => {\n",
              "        resolve(e.target.result);\n",
              "      };\n",
              "      reader.readAsArrayBuffer(file);\n",
              "    });\n",
              "    // Wait for the data to be ready.\n",
              "    let fileData = yield {\n",
              "      promise: fileDataPromise,\n",
              "      response: {\n",
              "        action: 'continue',\n",
              "      }\n",
              "    };\n",
              "\n",
              "    // Use a chunked sending to avoid message size limits. See b/62115660.\n",
              "    let position = 0;\n",
              "    do {\n",
              "      const length = Math.min(fileData.byteLength - position, MAX_PAYLOAD_SIZE);\n",
              "      const chunk = new Uint8Array(fileData, position, length);\n",
              "      position += length;\n",
              "\n",
              "      const base64 = btoa(String.fromCharCode.apply(null, chunk));\n",
              "      yield {\n",
              "        response: {\n",
              "          action: 'append',\n",
              "          file: file.name,\n",
              "          data: base64,\n",
              "        },\n",
              "      };\n",
              "\n",
              "      let percentDone = fileData.byteLength === 0 ?\n",
              "          100 :\n",
              "          Math.round((position / fileData.byteLength) * 100);\n",
              "      percent.textContent = `${percentDone}% done`;\n",
              "\n",
              "    } while (position < fileData.byteLength);\n",
              "  }\n",
              "\n",
              "  // All done.\n",
              "  yield {\n",
              "    response: {\n",
              "      action: 'complete',\n",
              "    }\n",
              "  };\n",
              "}\n",
              "\n",
              "scope.google = scope.google || {};\n",
              "scope.google.colab = scope.google.colab || {};\n",
              "scope.google.colab._files = {\n",
              "  _uploadFiles,\n",
              "  _uploadFilesContinue,\n",
              "};\n",
              "})(self);\n",
              "</script> "
            ]
          },
          "metadata": {}
        }
      ]
    },
    {
      "cell_type": "code",
      "source": [
        "df = pd.read_csv(\"uganda_farming_dataset.csv\")\n",
        "df.head()"
      ],
      "metadata": {
        "id": "oCGps5_y58iN"
      },
      "execution_count": null,
      "outputs": []
    },
    {
      "cell_type": "code",
      "source": [
        "!pip install pandas numpy matplotlib scikit-learn networkx torch torch-geometric\n"
      ],
      "metadata": {
        "id": "xWkQMP6a6kWN"
      },
      "execution_count": null,
      "outputs": []
    },
    {
      "cell_type": "code",
      "source": [
        "#Remove duplicates\n",
        "df.drop_duplicates(inplace = True)"
      ],
      "metadata": {
        "id": "cy3l-vET-NFd"
      },
      "execution_count": null,
      "outputs": []
    },
    {
      "cell_type": "code",
      "source": [
        "#Trim whitespace and standardize text case\n",
        "for col in ['Region', 'Crop_Type', 'Recommended_Fertilizer']:\n",
        "    df[col] = df[col].astype(str).str.strip().str.title()"
      ],
      "metadata": {
        "id": "RNdn9Sr2-mM2"
      },
      "execution_count": null,
      "outputs": []
    },
    {
      "cell_type": "code",
      "source": [
        "for col in df.columns:\n",
        "    if df[col].dtype in [np.float64, np.int64]:\n",
        "        df[col] = df[col].fillna(df[col].mean())\n",
        "    else:\n",
        "        df[col] = df[col].fillna(df[col].mode()[0])\n"
      ],
      "metadata": {
        "id": "LYH9VzAA_foj"
      },
      "execution_count": null,
      "outputs": []
    },
    {
      "cell_type": "code",
      "source": [
        "#detect and handle outliers (using z-score filtering)\n",
        "from scipy import stats\n",
        "numeric_cols = df.select_dtypes(include=[np.number]).columns\n",
        "z_scores = np.abs(stats.zscore(df[numeric_cols]))\n",
        "df = df[(z_scores < 3).all(axis=1)]  # keep only rows within 3 standard deviations\n",
        "\n",
        "print(\"Data Cleaning & Harmonization Done\")\n",
        "print(df.head())"
      ],
      "metadata": {
        "id": "19t4ioALA74F"
      },
      "execution_count": null,
      "outputs": []
    },
    {
      "cell_type": "code",
      "source": [
        "#FEATURE PREPARATION FOR KNOWLEDGE GRAPH\n",
        "\n",
        "#create unique IDs for categorical entities\n",
        "df['Region_ID'] = df['Region'].astype('category').cat.codes\n",
        "df['Crop_ID'] = df['Crop_Type'].astype('category').cat.codes\n",
        "df['Fert_ID'] = df['Recommended_Fertilizer'].astype('category').cat.codes\n",
        "\n",
        "#define entities\n",
        "soil_features = ['Soil_pH','Nitrogen','Phosphorus','Potassium']\n",
        "env_features = ['Rainfall','Temperature','Humidity']\n",
        "crop_features = ['Leaf_Chlorophyll','Pest_Infestation']\n",
        "\n",
        "#prepare node tables\n",
        "regions = df[['Region_ID','Region']].drop_duplicates()\n",
        "crops = df[['Crop_ID', 'Crop_Type']].drop_duplicates()\n",
        "fertilizers = df[['Fert_ID', 'Recommended_Fertilizer']].drop_duplicates()\n",
        "soils = df[soil_features]\n",
        "envs = df[env_features]\n",
        "\n",
        "#Generate relations (edges)\n",
        "edges = []\n",
        "for _, row in df.iterrows():\n",
        "    edges += [\n",
        "        ('Region_' + str(row['Region_ID']), 'Soil_' + str(_), 'has'),\n",
        "        ('Region_' + str(row['Region_ID']), 'Env_' + str(_), 'experiences'),\n",
        "        ('Soil_' + str(_), 'Crop_' + str(row['Crop_ID']), 'affects'),\n",
        "        ('Env_' + str(_), 'Crop_' + str(row['Crop_ID']), 'influences'),\n",
        "        ('Crop_' + str(row['Crop_ID']), 'Fert_' + str(row['Fert_ID']), 'requires')\n",
        "    ]\n",
        "\n",
        "edges_df = pd.DataFrame(edges, columns=['Source', 'Target', 'Relation'])\n",
        "\n",
        "print(\"Entity and Relationship Tables Ready\")\n",
        "print(\"Entities: Region, Crop, Fertilizer, Soil, Environment\")\n",
        "print(edges_df.head())"
      ],
      "metadata": {
        "id": "mNZi6ps0Bhxj"
      },
      "execution_count": null,
      "outputs": []
    },
    {
      "cell_type": "code",
      "source": [
        "#NUMERICAL SCALING & ENCODING\n",
        "\n",
        "from sklearn.preprocessing import LabelEncoder, MinMaxScaler\n",
        "import joblib\n",
        "\n",
        "#Encode categorical features\n",
        "label_encoders = {}\n",
        "for col in ['Region', 'Crop_Type', 'Recommended_Fertilizer']:\n",
        "    le = LabelEncoder()\n",
        "    df[col] = le.fit_transform(df[col])\n",
        "    label_encoders[col] = le\n",
        "\n",
        "#Normalize numeric features\n",
        "scaler = MinMaxScaler()\n",
        "num_cols = df.select_dtypes(include=[np.number]).columns\n",
        "df[num_cols] = scaler.fit_transform(df[num_cols])\n",
        "\n",
        "#Save encoders and scalers (for reuse during deployment)\n",
        "joblib.dump(label_encoders, 'label_encoders.pkl')\n",
        "joblib.dump(scaler, 'scaler.pkl')\n",
        "\n",
        "#Export preprocessed dataset\n",
        "df.to_csv('encoded_df.csv', index=False)\n",
        "\n",
        "print(\"Encoding & Scaling Completed. File saved as encoded_df.csv\")\n",
        "df.head()\n"
      ],
      "metadata": {
        "id": "OfuOc7m76rka"
      },
      "execution_count": null,
      "outputs": []
    },
    {
      "cell_type": "code",
      "source": [
        "# STEP 1. GRAPH CONSTRUCTION (NetworkX)\n",
        "\n",
        "import networkx as nx\n",
        "import matplotlib.pyplot as plt\n",
        "import pandas as pd\n",
        "\n",
        "# Load encoded data\n",
        "df = pd.read_csv(\"encoded_df.csv\")\n",
        "\n",
        "# Build an undirected Knowledge Graph\n",
        "G = nx.Graph()\n",
        "\n",
        "# Add nodes with attributes\n",
        "for _, row in df.iterrows():\n",
        "    # Create node names\n",
        "    region = f\"Region_{int(row['Region'])}\"\n",
        "    crop = f\"Crop_{int(row['Crop_Type'])}\"\n",
        "    fert = f\"Fert_{int(row['Recommended_Fertilizer'])}\"\n",
        "    soil = f\"Soil_{_}\"\n",
        "    env = f\"Env_{_}\"\n",
        "\n",
        "    # Add nodes with features\n",
        "    G.add_node(region, type=\"Region\")\n",
        "    G.add_node(crop, type=\"Crop\")\n",
        "    G.add_node(fert, type=\"Fertilizer\")\n",
        "    G.add_node(soil, type=\"Soil\", pH=row['Soil_pH'], N=row['Nitrogen'], P=row['Phosphorus'], K=row['Potassium'])\n",
        "    G.add_node(env, type=\"Environment\", Rainfall=row['Rainfall'], Temperature=row['Temperature'], Humidity=row['Humidity'])\n",
        "\n",
        "    # Add relationships (edges)\n",
        "    G.add_edges_from([\n",
        "        (region, soil, {'relation': 'has'}),\n",
        "        (region, env, {'relation': 'experiences'}),\n",
        "        (soil, crop, {'relation': 'affects'}),\n",
        "        (env, crop, {'relation': 'influences'}),\n",
        "        (crop, fert, {'relation': 'requires'})\n",
        "    ])\n",
        "\n",
        "print(f\"Graph built with {len(G.nodes())} nodes and {len(G.edges())} edges.\")\n",
        "\n",
        "# Visualize small subgraph (optional)\n",
        "subset = list(G.nodes)[:40]\n",
        "H = G.subgraph(subset)\n",
        "plt.figure(figsize=(12, 8))\n",
        "nx.draw(H, with_labels=True, node_size=500, font_size=7)\n",
        "plt.show()\n"
      ],
      "metadata": {
        "id": "YoEwqy0f8io2"
      },
      "execution_count": null,
      "outputs": []
    },
    {
      "cell_type": "code",
      "source": [
        "!pip install node2vec\n"
      ],
      "metadata": {
        "id": "dQF_nKqQHLHz"
      },
      "execution_count": null,
      "outputs": []
    },
    {
      "cell_type": "code",
      "source": [],
      "metadata": {
        "id": "YC71QR4TH87X"
      },
      "execution_count": null,
      "outputs": []
    }
  ]
}